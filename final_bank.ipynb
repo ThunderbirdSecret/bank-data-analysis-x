{
 "cells": [
  {
   "cell_type": "markdown",
   "id": "b56d2fce",
   "metadata": {},
   "source": [
    "## Описание проекта<a id=\"description\"></a>\n",
    "Заказчик — кредитный отдел банка. Нужно разобраться, влияет ли семейное положение и количество детей клиента на факт погашения кредита в срок. Входные данные от банка — статистика о платёжеспособности клиентов.\n",
    "Результаты исследования будут учтены при построении модели кредитного скоринга — специальной системы, которая оценивает способность потенциального заёмщика вернуть кредит банку.\n",
    "Инструкция по выполнению\n",
    "- [Предобработка данных](#begin)\n",
    "- [Пропущенные значения](#empty)\n",
    "##### После [удаления дубликатов](#duplicated) сделайте следующее:\n",
    "3. [Ответьте на вопросы](#answer)\n",
    "Ответы на вопросы можно разместить в ячейках тетрадок Jupyter Notebook с типом markdown.\n",
    "- Есть ли зависимость между количеством детей и возвратом кредита в срок?\n",
    "- Есть ли зависимость между семейным положением и возвратом кредита в срок?\n",
    "- Есть ли зависимость между уровнем дохода и возвратом кредита в срок?\n",
    "- Как разные цели кредита влияют на его возврат в срок?\n",
    "Ответы сопроводите интерпретацией — поясните, о чём именно говорит полученный вами результат.\n",
    "4. [Напишите общий вывод](#result)\n",
    "Оформление: Задание выполните в Jupyter Notebook. Программный код заполните в ячейках типа code, текстовые пояснения — в ячейках типа markdown. Примените форматирование и заголовки.\n"
   ]
  },
  {
   "cell_type": "markdown",
   "id": "553b15eb-7927-42be-95bd-563d5e8b9c72",
   "metadata": {},
   "source": [
    "#### Описание данных\n",
    "- children — количество детей в семье\n",
    "- days_employed — общий трудовой стаж в днях\n",
    "- dob_years — возраст клиента в годах\n",
    "- education — уровень образования клиента\n",
    "- education_id — идентификатор уровня образования\n",
    "- family_status — семейное положение\n",
    "- family_status_id — идентификатор семейного положения\n",
    "- gender — пол клиента\n",
    "- income_type — тип занятости\n",
    "- debt — имел ли задолженность по возврату кредитов\n",
    "- total_income — ежемесячный доход\n",
    "- purpose — цель получения кредита"
   ]
  },
  {
   "cell_type": "code",
   "execution_count": 1,
   "id": "76fb5613",
   "metadata": {},
   "outputs": [
    {
     "name": "stdout",
     "output_type": "stream",
     "text": [
      "<class 'pandas.core.frame.DataFrame'>\n",
      "RangeIndex: 21525 entries, 0 to 21524\n",
      "Data columns (total 12 columns):\n",
      " #   Column            Non-Null Count  Dtype  \n",
      "---  ------            --------------  -----  \n",
      " 0   children          21525 non-null  int64  \n",
      " 1   days_employed     19351 non-null  float64\n",
      " 2   dob_years         21525 non-null  int64  \n",
      " 3   education         21525 non-null  object \n",
      " 4   education_id      21525 non-null  int64  \n",
      " 5   family_status     21525 non-null  object \n",
      " 6   family_status_id  21525 non-null  int64  \n",
      " 7   gender            21525 non-null  object \n",
      " 8   income_type       21525 non-null  object \n",
      " 9   debt              21525 non-null  int64  \n",
      " 10  total_income      19351 non-null  float64\n",
      " 11  purpose           21525 non-null  object \n",
      "dtypes: float64(2), int64(5), object(5)\n",
      "memory usage: 2.0+ MB\n"
     ]
    }
   ],
   "source": [
    "import pandas as pd\n",
    "\n",
    "data = pd.read_csv('data.csv')\n",
    "\n",
    "data.head()\n",
    "data.info()"
   ]
  },
  {
   "cell_type": "markdown",
   "id": "9bddd9f8",
   "metadata": {},
   "source": [
    "[описание проекта](#description)"
   ]
  },
  {
   "cell_type": "markdown",
   "id": "9c968fd0",
   "metadata": {},
   "source": [
    "## Предообработка данных <a id=\"begin\"></a>"
   ]
  },
  {
   "cell_type": "markdown",
   "id": "4ece6d8f",
   "metadata": {},
   "source": [
    "Обработаем данные так чтобы с ними было удобно работать: удалять дубликаты и искать пропущенные значения.     "
   ]
  },
  {
   "cell_type": "code",
   "execution_count": 2,
   "id": "dc59f132",
   "metadata": {},
   "outputs": [
    {
     "data": {
      "text/plain": [
       "array(['высшее', 'среднее', 'Среднее', 'СРЕДНЕЕ', 'ВЫСШЕЕ',\n",
       "       'неоконченное высшее', 'начальное', 'Высшее',\n",
       "       'НЕОКОНЧЕННОЕ ВЫСШЕЕ', 'Неоконченное высшее', 'НАЧАЛЬНОЕ',\n",
       "       'Начальное', 'Ученая степень', 'УЧЕНАЯ СТЕПЕНЬ', 'ученая степень'],\n",
       "      dtype=object)"
      ]
     },
     "execution_count": 2,
     "metadata": {},
     "output_type": "execute_result"
    }
   ],
   "source": [
    "data.education.unique()"
   ]
  },
  {
   "cell_type": "code",
   "execution_count": 3,
   "id": "0fa51e4c",
   "metadata": {},
   "outputs": [
    {
     "data": {
      "text/plain": [
       "array(['женат / замужем', 'гражданский брак', 'вдовец / вдова',\n",
       "       'в разводе', 'Не женат / не замужем'], dtype=object)"
      ]
     },
     "execution_count": 3,
     "metadata": {},
     "output_type": "execute_result"
    }
   ],
   "source": [
    "data.family_status.unique()"
   ]
  },
  {
   "cell_type": "code",
   "execution_count": 4,
   "id": "24b664a4",
   "metadata": {},
   "outputs": [
    {
     "data": {
      "text/plain": [
       "array(['женат / замужем', 'гражданский брак', 'вдовец / вдова',\n",
       "       'в разводе', 'не женат / не замужем'], dtype=object)"
      ]
     },
     "execution_count": 4,
     "metadata": {},
     "output_type": "execute_result"
    }
   ],
   "source": [
    "# есть неявные дубликаты за счет заглавных букв\n",
    "data.family_status = data.family_status.str.lower()\n",
    "data.family_status.unique()"
   ]
  },
  {
   "cell_type": "code",
   "execution_count": 5,
   "id": "682f4191",
   "metadata": {},
   "outputs": [
    {
     "data": {
      "text/plain": [
       "array(['высшее', 'среднее', 'неоконченное высшее', 'начальное',\n",
       "       'ученая степень'], dtype=object)"
      ]
     },
     "execution_count": 5,
     "metadata": {},
     "output_type": "execute_result"
    }
   ],
   "source": [
    "data.education = data.education.str.lower()\n",
    "data.education.unique()"
   ]
  },
  {
   "cell_type": "markdown",
   "id": "4e831b44",
   "metadata": {},
   "source": [
    "Добавим столбец category_purpose для категоризации значений purpose"
   ]
  },
  {
   "cell_type": "code",
   "execution_count": 6,
   "id": "fd2ba85d",
   "metadata": {},
   "outputs": [
    {
     "data": {
      "text/plain": [
       "array(['покупка жилья', 'приобретение автомобиля',\n",
       "       'дополнительное образование', 'сыграть свадьбу',\n",
       "       'операции с жильем', 'образование', 'на проведение свадьбы',\n",
       "       'покупка жилья для семьи', 'покупка недвижимости',\n",
       "       'покупка коммерческой недвижимости', 'покупка жилой недвижимости',\n",
       "       'строительство собственной недвижимости', 'недвижимость',\n",
       "       'строительство недвижимости', 'на покупку подержанного автомобиля',\n",
       "       'на покупку своего автомобиля',\n",
       "       'операции с коммерческой недвижимостью',\n",
       "       'строительство жилой недвижимости', 'жилье',\n",
       "       'операции со своей недвижимостью', 'автомобили',\n",
       "       'заняться образованием', 'сделка с подержанным автомобилем',\n",
       "       'получение образования', 'автомобиль', 'свадьба',\n",
       "       'получение дополнительного образования', 'покупка своего жилья',\n",
       "       'операции с недвижимостью', 'получение высшего образования',\n",
       "       'свой автомобиль', 'сделка с автомобилем',\n",
       "       'профильное образование', 'высшее образование',\n",
       "       'покупка жилья для сдачи', 'на покупку автомобиля', 'ремонт жилью',\n",
       "       'заняться высшим образованием'], dtype=object)"
      ]
     },
     "execution_count": 6,
     "metadata": {},
     "output_type": "execute_result"
    }
   ],
   "source": [
    "data.purpose.unique()"
   ]
  },
  {
   "cell_type": "markdown",
   "id": "df002e08",
   "metadata": {},
   "source": [
    "В purpose много однокоренных слов, поэтому выделим основные группы: 'ремонт\\строительство', 'операции с автомобилем', 'получение образования', 'проведение свадьбы',  'операции с недвижимостью'"
   ]
  },
  {
   "cell_type": "code",
   "execution_count": 7,
   "id": "d982b7d0",
   "metadata": {},
   "outputs": [
    {
     "data": {
      "text/plain": [
       "category_purpose          purpose                               \n",
       "операции с автомобилем    на покупку своего автомобиля              505\n",
       "                          автомобиль                                495\n",
       "                          сделка с подержанным автомобилем          489\n",
       "                          свой автомобиль                           480\n",
       "                          на покупку подержанного автомобиля        479\n",
       "                          автомобили                                478\n",
       "                          на покупку автомобиля                     472\n",
       "                          приобретение автомобиля                   462\n",
       "                          сделка с автомобилем                      455\n",
       "операции с недвижимостью  операции с недвижимостью                  676\n",
       "                          покупка коммерческой недвижимости         664\n",
       "                          операции с жильем                         653\n",
       "                          покупка жилья для сдачи                   653\n",
       "                          операции с коммерческой недвижимостью     651\n",
       "                          покупка жилья                             647\n",
       "                          жилье                                     647\n",
       "                          покупка жилья для семьи                   641\n",
       "                          недвижимость                              634\n",
       "                          операции со своей недвижимостью           630\n",
       "                          покупка недвижимости                      624\n",
       "                          покупка своего жилья                      620\n",
       "                          покупка жилой недвижимости                607\n",
       "получение образования     заняться высшим образованием              496\n",
       "                          дополнительное образование                462\n",
       "                          высшее образование                        453\n",
       "                          получение дополнительного образования     447\n",
       "                          образование                               447\n",
       "                          получение образования                     443\n",
       "                          профильное образование                    436\n",
       "                          получение высшего образования             426\n",
       "                          заняться образованием                     412\n",
       "проведение свадьбы        свадьба                                   797\n",
       "                          на проведение свадьбы                     777\n",
       "                          сыграть свадьбу                           774\n",
       "ремонт\\строительство      строительство собственной недвижимости    635\n",
       "                          строительство жилой недвижимости          626\n",
       "                          строительство недвижимости                620\n",
       "                          ремонт жилью                              612\n",
       "Name: count, dtype: int64"
      ]
     },
     "execution_count": 7,
     "metadata": {},
     "output_type": "execute_result"
    }
   ],
   "source": [
    "def category_purpose(purpose):\n",
    "    try:\n",
    "        if ('ремонт' in purpose) | ('строительство' in purpose):\n",
    "            return 'ремонт\\строительство'\n",
    "        elif 'авто' in purpose:\n",
    "            return 'операции с автомобилем'\n",
    "        elif 'образов' in purpose:\n",
    "            return 'получение образования'\n",
    "        elif 'свад' in purpose:\n",
    "            return 'проведение свадьбы'\n",
    "        elif ('недвиж' in purpose) | ('жиль' in purpose):\n",
    "            return 'операции с недвижимостью'\n",
    "        else:\n",
    "            return 'другое'\n",
    "    except:\n",
    "        return 'Error'\n",
    "    \n",
    "data['category_purpose'] = data.purpose.apply(category_purpose)\n",
    "data.groupby('category_purpose').purpose.value_counts()"
   ]
  },
  {
   "cell_type": "code",
   "execution_count": 8,
   "id": "eee8703a",
   "metadata": {},
   "outputs": [
    {
     "data": {
      "text/plain": [
       "category_purpose\n",
       "операции с недвижимостью    8347\n",
       "операции с автомобилем      4315\n",
       "получение образования       4022\n",
       "ремонт\\строительство        2493\n",
       "проведение свадьбы          2348\n",
       "Name: count, dtype: int64"
      ]
     },
     "execution_count": 8,
     "metadata": {},
     "output_type": "execute_result"
    }
   ],
   "source": [
    "data.category_purpose.value_counts()"
   ]
  },
  {
   "cell_type": "markdown",
   "id": "c57ef605",
   "metadata": {},
   "source": [
    "Проверили что значения purpose соответствуют category_purpose"
   ]
  },
  {
   "cell_type": "markdown",
   "id": "5f216090",
   "metadata": {},
   "source": [
    "Проверим минимальный возраст клиента и раскидаем по возрастным категориям остальные для удобства"
   ]
  },
  {
   "cell_type": "code",
   "execution_count": 9,
   "id": "5d8b1134",
   "metadata": {},
   "outputs": [
    {
     "name": "stdout",
     "output_type": "stream",
     "text": [
      "Клиентов с возрастом равным 0 всего 0.5%\n"
     ]
    }
   ],
   "source": [
    "# Проверяем минимальный возраст клиета и узнаем что и тут есть 0\n",
    "unknown_age = data[data.dob_years <= 18].debt\n",
    "# смотрим количество нолей\n",
    "unknown_age.value_counts()\n",
    "print(f'Клиентов с возрастом равным 0 всего {round(unknown_age.count()/len(data) * 100, 1)}%')"
   ]
  },
  {
   "cell_type": "markdown",
   "id": "da8c8a80",
   "metadata": {},
   "source": [
    "Удалим строки с возрастом меньше 0, так как их достаточно мало и они не смогут существенно повлиять на результат"
   ]
  },
  {
   "cell_type": "markdown",
   "id": "7800e0d0",
   "metadata": {},
   "source": [
    "Возьмем 3 последние категории для возраста из теории психосоциального развития Эрика Эриксона. \n",
    "- Молодость (от 19 до 35–39 лет) — начало зрелости, ранние годы семейной жизни, годы до начала среднего возраста\n",
    "- Взрослость, зрелость (от 35–39 до 60 лет) — период, когда человек прочно связывает себя с определенным родом занятий, а его дети становятся подростками\n",
    "- Старость (от 60 лет) — период, когда основная работа жизни закончилась"
   ]
  },
  {
   "cell_type": "code",
   "execution_count": 10,
   "id": "d2b709e9",
   "metadata": {},
   "outputs": [
    {
     "data": {
      "text/plain": [
       "0"
      ]
     },
     "execution_count": 10,
     "metadata": {},
     "output_type": "execute_result"
    }
   ],
   "source": [
    "def category_age(years):\n",
    "    if (years >= 18) & (years <= 35):\n",
    "        return 'молодой 18+'\n",
    "    elif (years > 35) & (years < 60):\n",
    "        return 'взрослый 35+'\n",
    "    elif years >= 60:\n",
    "        return 'старый 60+'\n",
    "\n",
    "data['category_age'] = data.dob_years.apply(category_age)\n",
    "\n",
    "# Удаляем строки где dob_years = 0 & category_age = None \n",
    "data.dropna(subset=['category_age'], inplace=True)\n",
    "data[data.dob_years == 0].category_age.isna().sum()"
   ]
  },
  {
   "cell_type": "markdown",
   "id": "fc947533",
   "metadata": {},
   "source": [
    "Преобразуем таблицу и уберем столбцы family_id и education_id так как они дублируют информацию, но в другом формате с которым не удобно работать. "
   ]
  },
  {
   "cell_type": "code",
   "execution_count": 11,
   "id": "19167716",
   "metadata": {},
   "outputs": [],
   "source": [
    "data.columns\n",
    "\n",
    "data = data.drop(['family_status_id', 'education_id'], axis=1)\n"
   ]
  },
  {
   "cell_type": "code",
   "execution_count": 12,
   "id": "2df7203e",
   "metadata": {},
   "outputs": [
    {
     "name": "stdout",
     "output_type": "stream",
     "text": [
      "<class 'pandas.core.frame.DataFrame'>\n",
      "Index: 21424 entries, 0 to 21524\n",
      "Data columns (total 12 columns):\n",
      " #   Column            Non-Null Count  Dtype  \n",
      "---  ------            --------------  -----  \n",
      " 0   children          21424 non-null  int64  \n",
      " 1   days_employed     19260 non-null  float64\n",
      " 2   dob_years         21424 non-null  int64  \n",
      " 3   education         21424 non-null  object \n",
      " 4   family_status     21424 non-null  object \n",
      " 5   gender            21424 non-null  object \n",
      " 6   income_type       21424 non-null  object \n",
      " 7   debt              21424 non-null  int64  \n",
      " 8   total_income      19260 non-null  float64\n",
      " 9   purpose           21424 non-null  object \n",
      " 10  category_purpose  21424 non-null  object \n",
      " 11  category_age      21424 non-null  object \n",
      "dtypes: float64(2), int64(3), object(7)\n",
      "memory usage: 2.1+ MB\n"
     ]
    }
   ],
   "source": [
    "data.info()"
   ]
  },
  {
   "cell_type": "markdown",
   "id": "88f3e9ff",
   "metadata": {},
   "source": [
    "## Поиск пропущенных значений<a id=\"empty\"></a>\n",
    "\n",
    "Теперь обработаем пропуски, тк пропуски не только влияют на анализ данных, но и мешают убирать аномалии\n",
    "- проверим на NaN и null с помощью isna()\n",
    "- проверим столбцы с числовыми значениями на 0: days_employed, total_income"
   ]
  },
  {
   "cell_type": "code",
   "execution_count": 13,
   "id": "43a19c64",
   "metadata": {},
   "outputs": [
    {
     "data": {
      "text/plain": [
       "children               0\n",
       "days_employed       2164\n",
       "dob_years              0\n",
       "education              0\n",
       "family_status          0\n",
       "gender                 0\n",
       "income_type            0\n",
       "debt                   0\n",
       "total_income        2164\n",
       "purpose                0\n",
       "category_purpose       0\n",
       "category_age           0\n",
       "dtype: int64"
      ]
     },
     "execution_count": 13,
     "metadata": {},
     "output_type": "execute_result"
    }
   ],
   "source": [
    "data.isna().sum()"
   ]
  },
  {
   "cell_type": "markdown",
   "id": "20f175d7",
   "metadata": {},
   "source": [
    "[описание проекта](#description)"
   ]
  },
  {
   "cell_type": "code",
   "execution_count": 14,
   "id": "f683b702",
   "metadata": {},
   "outputs": [
    {
     "name": "stdout",
     "output_type": "stream",
     "text": [
      "В столбцах days_employed и total_income из 21424 найдено 2164 совпадений\n"
     ]
    },
    {
     "data": {
      "text/html": [
       "<div>\n",
       "<style scoped>\n",
       "    .dataframe tbody tr th:only-of-type {\n",
       "        vertical-align: middle;\n",
       "    }\n",
       "\n",
       "    .dataframe tbody tr th {\n",
       "        vertical-align: top;\n",
       "    }\n",
       "\n",
       "    .dataframe thead th {\n",
       "        text-align: right;\n",
       "    }\n",
       "</style>\n",
       "<table border=\"1\" class=\"dataframe\">\n",
       "  <thead>\n",
       "    <tr style=\"text-align: right;\">\n",
       "      <th></th>\n",
       "      <th>children</th>\n",
       "      <th>days_employed</th>\n",
       "      <th>dob_years</th>\n",
       "      <th>education</th>\n",
       "      <th>family_status</th>\n",
       "      <th>gender</th>\n",
       "      <th>income_type</th>\n",
       "      <th>debt</th>\n",
       "      <th>total_income</th>\n",
       "      <th>purpose</th>\n",
       "      <th>category_purpose</th>\n",
       "      <th>category_age</th>\n",
       "    </tr>\n",
       "  </thead>\n",
       "  <tbody>\n",
       "    <tr>\n",
       "      <th>12</th>\n",
       "      <td>0</td>\n",
       "      <td>NaN</td>\n",
       "      <td>65</td>\n",
       "      <td>среднее</td>\n",
       "      <td>гражданский брак</td>\n",
       "      <td>M</td>\n",
       "      <td>пенсионер</td>\n",
       "      <td>0</td>\n",
       "      <td>NaN</td>\n",
       "      <td>сыграть свадьбу</td>\n",
       "      <td>проведение свадьбы</td>\n",
       "      <td>старый 60+</td>\n",
       "    </tr>\n",
       "    <tr>\n",
       "      <th>26</th>\n",
       "      <td>0</td>\n",
       "      <td>NaN</td>\n",
       "      <td>41</td>\n",
       "      <td>среднее</td>\n",
       "      <td>женат / замужем</td>\n",
       "      <td>M</td>\n",
       "      <td>госслужащий</td>\n",
       "      <td>0</td>\n",
       "      <td>NaN</td>\n",
       "      <td>образование</td>\n",
       "      <td>получение образования</td>\n",
       "      <td>взрослый 35+</td>\n",
       "    </tr>\n",
       "    <tr>\n",
       "      <th>29</th>\n",
       "      <td>0</td>\n",
       "      <td>NaN</td>\n",
       "      <td>63</td>\n",
       "      <td>среднее</td>\n",
       "      <td>не женат / не замужем</td>\n",
       "      <td>F</td>\n",
       "      <td>пенсионер</td>\n",
       "      <td>0</td>\n",
       "      <td>NaN</td>\n",
       "      <td>строительство жилой недвижимости</td>\n",
       "      <td>ремонт\\строительство</td>\n",
       "      <td>старый 60+</td>\n",
       "    </tr>\n",
       "    <tr>\n",
       "      <th>41</th>\n",
       "      <td>0</td>\n",
       "      <td>NaN</td>\n",
       "      <td>50</td>\n",
       "      <td>среднее</td>\n",
       "      <td>женат / замужем</td>\n",
       "      <td>F</td>\n",
       "      <td>госслужащий</td>\n",
       "      <td>0</td>\n",
       "      <td>NaN</td>\n",
       "      <td>сделка с подержанным автомобилем</td>\n",
       "      <td>операции с автомобилем</td>\n",
       "      <td>взрослый 35+</td>\n",
       "    </tr>\n",
       "    <tr>\n",
       "      <th>55</th>\n",
       "      <td>0</td>\n",
       "      <td>NaN</td>\n",
       "      <td>54</td>\n",
       "      <td>среднее</td>\n",
       "      <td>гражданский брак</td>\n",
       "      <td>F</td>\n",
       "      <td>пенсионер</td>\n",
       "      <td>1</td>\n",
       "      <td>NaN</td>\n",
       "      <td>сыграть свадьбу</td>\n",
       "      <td>проведение свадьбы</td>\n",
       "      <td>взрослый 35+</td>\n",
       "    </tr>\n",
       "  </tbody>\n",
       "</table>\n",
       "</div>"
      ],
      "text/plain": [
       "    children  days_employed  dob_years education          family_status  \\\n",
       "12         0            NaN         65   среднее       гражданский брак   \n",
       "26         0            NaN         41   среднее        женат / замужем   \n",
       "29         0            NaN         63   среднее  не женат / не замужем   \n",
       "41         0            NaN         50   среднее        женат / замужем   \n",
       "55         0            NaN         54   среднее       гражданский брак   \n",
       "\n",
       "   gender  income_type  debt  total_income                           purpose  \\\n",
       "12      M    пенсионер     0           NaN                   сыграть свадьбу   \n",
       "26      M  госслужащий     0           NaN                       образование   \n",
       "29      F    пенсионер     0           NaN  строительство жилой недвижимости   \n",
       "41      F  госслужащий     0           NaN  сделка с подержанным автомобилем   \n",
       "55      F    пенсионер     1           NaN                   сыграть свадьбу   \n",
       "\n",
       "          category_purpose  category_age  \n",
       "12      проведение свадьбы    старый 60+  \n",
       "26   получение образования  взрослый 35+  \n",
       "29    ремонт\\строительство    старый 60+  \n",
       "41  операции с автомобилем  взрослый 35+  \n",
       "55      проведение свадьбы  взрослый 35+  "
      ]
     },
     "execution_count": 14,
     "metadata": {},
     "output_type": "execute_result"
    }
   ],
   "source": [
    "# смотрю если совпадения в пропущенных значениях\n",
    "empty_str = data[(data.days_employed.isna()) & (data.total_income.isna())]\n",
    "print(f'В столбцах days_employed и total_income из {len(data)} найдено {len(empty_str)} совпадений')\n",
    "empty_str.head()"
   ]
  },
  {
   "cell_type": "code",
   "execution_count": 15,
   "id": "99755f50",
   "metadata": {},
   "outputs": [
    {
     "name": "stdout",
     "output_type": "stream",
     "text": [
      "Доля пропущенных значений составляет 10.1%\n"
     ]
    }
   ],
   "source": [
    "print(f'Доля пропущенных значений составляет {round(len(empty_str)/len(data) * 100, 1)}%')"
   ]
  },
  {
   "cell_type": "markdown",
   "id": "5b335cd3",
   "metadata": {},
   "source": [
    "Можно предположить, что эти пропущенные значения не случайны, так как полностью совпадают друг с другом. \n",
    "- Возможно, эти данные были из одного источника типо лендинга или определенного кредитного продукта;\n",
    "- Не исключена утеря данных или ошибка в их сборе;\n",
    "- Нестабильный доход и неофициальная работа или ее отсутствие могли стать причиной для пропусков;"
   ]
  },
  {
   "cell_type": "code",
   "execution_count": 16,
   "id": "37dfcb30",
   "metadata": {},
   "outputs": [
    {
     "data": {
      "text/html": [
       "<div>\n",
       "<style scoped>\n",
       "    .dataframe tbody tr th:only-of-type {\n",
       "        vertical-align: middle;\n",
       "    }\n",
       "\n",
       "    .dataframe tbody tr th {\n",
       "        vertical-align: top;\n",
       "    }\n",
       "\n",
       "    .dataframe thead th {\n",
       "        text-align: right;\n",
       "    }\n",
       "</style>\n",
       "<table border=\"1\" class=\"dataframe\">\n",
       "  <thead>\n",
       "    <tr style=\"text-align: right;\">\n",
       "      <th>category_purpose</th>\n",
       "      <th>операции с автомобилем</th>\n",
       "      <th>операции с недвижимостью</th>\n",
       "      <th>получение образования</th>\n",
       "      <th>проведение свадьбы</th>\n",
       "      <th>ремонт\\строительство</th>\n",
       "    </tr>\n",
       "    <tr>\n",
       "      <th>income_type</th>\n",
       "      <th></th>\n",
       "      <th></th>\n",
       "      <th></th>\n",
       "      <th></th>\n",
       "      <th></th>\n",
       "    </tr>\n",
       "  </thead>\n",
       "  <tbody>\n",
       "    <tr>\n",
       "      <th>госслужащий</th>\n",
       "      <td>27.0</td>\n",
       "      <td>55.0</td>\n",
       "      <td>35.0</td>\n",
       "      <td>14.0</td>\n",
       "      <td>16.0</td>\n",
       "    </tr>\n",
       "    <tr>\n",
       "      <th>компаньон</th>\n",
       "      <td>93.0</td>\n",
       "      <td>186.0</td>\n",
       "      <td>105.0</td>\n",
       "      <td>55.0</td>\n",
       "      <td>67.0</td>\n",
       "    </tr>\n",
       "    <tr>\n",
       "      <th>пенсионер</th>\n",
       "      <td>82.0</td>\n",
       "      <td>155.0</td>\n",
       "      <td>73.0</td>\n",
       "      <td>58.0</td>\n",
       "      <td>42.0</td>\n",
       "    </tr>\n",
       "    <tr>\n",
       "      <th>предприниматель</th>\n",
       "      <td>NaN</td>\n",
       "      <td>1.0</td>\n",
       "      <td>NaN</td>\n",
       "      <td>NaN</td>\n",
       "      <td>NaN</td>\n",
       "    </tr>\n",
       "    <tr>\n",
       "      <th>сотрудник</th>\n",
       "      <td>216.0</td>\n",
       "      <td>428.0</td>\n",
       "      <td>212.0</td>\n",
       "      <td>120.0</td>\n",
       "      <td>124.0</td>\n",
       "    </tr>\n",
       "  </tbody>\n",
       "</table>\n",
       "</div>"
      ],
      "text/plain": [
       "category_purpose  операции с автомобилем  операции с недвижимостью  \\\n",
       "income_type                                                          \n",
       "госслужащий                         27.0                      55.0   \n",
       "компаньон                           93.0                     186.0   \n",
       "пенсионер                           82.0                     155.0   \n",
       "предприниматель                      NaN                       1.0   \n",
       "сотрудник                          216.0                     428.0   \n",
       "\n",
       "category_purpose  получение образования  проведение свадьбы  \\\n",
       "income_type                                                   \n",
       "госслужащий                        35.0                14.0   \n",
       "компаньон                         105.0                55.0   \n",
       "пенсионер                          73.0                58.0   \n",
       "предприниматель                     NaN                 NaN   \n",
       "сотрудник                         212.0               120.0   \n",
       "\n",
       "category_purpose  ремонт\\строительство  \n",
       "income_type                             \n",
       "госслужащий                       16.0  \n",
       "компаньон                         67.0  \n",
       "пенсионер                         42.0  \n",
       "предприниматель                    NaN  \n",
       "сотрудник                        124.0  "
      ]
     },
     "execution_count": 16,
     "metadata": {},
     "output_type": "execute_result"
    }
   ],
   "source": [
    "empty_str.pivot_table(\n",
    "    index = 'income_type',\n",
    "    columns = 'category_purpose',\n",
    "    values = 'debt',\n",
    "    aggfunc = 'count'\n",
    ")\n"
   ]
  },
  {
   "cell_type": "code",
   "execution_count": 17,
   "id": "71e200e8",
   "metadata": {},
   "outputs": [
    {
     "data": {
      "text/html": [
       "<div>\n",
       "<style scoped>\n",
       "    .dataframe tbody tr th:only-of-type {\n",
       "        vertical-align: middle;\n",
       "    }\n",
       "\n",
       "    .dataframe tbody tr th {\n",
       "        vertical-align: top;\n",
       "    }\n",
       "\n",
       "    .dataframe thead th {\n",
       "        text-align: right;\n",
       "    }\n",
       "</style>\n",
       "<table border=\"1\" class=\"dataframe\">\n",
       "  <thead>\n",
       "    <tr style=\"text-align: right;\">\n",
       "      <th>category_age</th>\n",
       "      <th>взрослый 35+</th>\n",
       "      <th>молодой 18+</th>\n",
       "      <th>старый 60+</th>\n",
       "    </tr>\n",
       "    <tr>\n",
       "      <th>income_type</th>\n",
       "      <th></th>\n",
       "      <th></th>\n",
       "      <th></th>\n",
       "    </tr>\n",
       "  </thead>\n",
       "  <tbody>\n",
       "    <tr>\n",
       "      <th>госслужащий</th>\n",
       "      <td>38.0</td>\n",
       "      <td>63.0</td>\n",
       "      <td>0.0</td>\n",
       "    </tr>\n",
       "    <tr>\n",
       "      <th>компаньон</th>\n",
       "      <td>186.0</td>\n",
       "      <td>125.0</td>\n",
       "      <td>0.0</td>\n",
       "    </tr>\n",
       "    <tr>\n",
       "      <th>пенсионер</th>\n",
       "      <td>37.0</td>\n",
       "      <td>2.0</td>\n",
       "      <td>29.0</td>\n",
       "    </tr>\n",
       "    <tr>\n",
       "      <th>предприниматель</th>\n",
       "      <td>0.0</td>\n",
       "      <td>NaN</td>\n",
       "      <td>NaN</td>\n",
       "    </tr>\n",
       "    <tr>\n",
       "      <th>сотрудник</th>\n",
       "      <td>387.0</td>\n",
       "      <td>325.0</td>\n",
       "      <td>5.0</td>\n",
       "    </tr>\n",
       "  </tbody>\n",
       "</table>\n",
       "</div>"
      ],
      "text/plain": [
       "category_age     взрослый 35+  молодой 18+  старый 60+\n",
       "income_type                                           \n",
       "госслужащий              38.0         63.0         0.0\n",
       "компаньон               186.0        125.0         0.0\n",
       "пенсионер                37.0          2.0        29.0\n",
       "предприниматель           0.0          NaN         NaN\n",
       "сотрудник               387.0        325.0         5.0"
      ]
     },
     "execution_count": 17,
     "metadata": {},
     "output_type": "execute_result"
    }
   ],
   "source": [
    "empty_str.pivot_table(\n",
    "    index = 'income_type',\n",
    "    columns = 'category_age',\n",
    "    values = 'children',\n",
    "    aggfunc = 'sum'\n",
    ")"
   ]
  },
  {
   "cell_type": "markdown",
   "id": "e567c7bb",
   "metadata": {},
   "source": [
    "-  у клиетов очевидно не один и тот же кредитный продукт типо кредитки, так как отличаются кредитные цели;\n",
    "-  в income_type есть 'пенсионер' и 'госслужащий' их доход обычно стабилен и не равен 0;\n",
    "-  вероятно, отсутствие данных произошло случайно, тк в эти данные составляют 10% от остальной таблицы, то не будем их удалять, а заполним медиаными значениями, тк выборка касательно доходов и дней стажа сильно отличается по таблице."
   ]
  },
  {
   "cell_type": "code",
   "execution_count": 18,
   "id": "f4d6bef3",
   "metadata": {},
   "outputs": [
    {
     "data": {
      "text/plain": [
       "0      8437.673028\n",
       "1      4024.803754\n",
       "2      5623.422610\n",
       "3      4124.747207\n",
       "4    340266.072047\n",
       "Name: days_employed, dtype: float64"
      ]
     },
     "execution_count": 18,
     "metadata": {},
     "output_type": "execute_result"
    }
   ],
   "source": [
    "#days_employed преобразуем значения, чтобы с ними можно было работать\n",
    "data.days_employed = abs(data.days_employed)\n",
    "data.days_employed.head()"
   ]
  },
  {
   "cell_type": "markdown",
   "id": "f0e08ca6",
   "metadata": {},
   "source": [
    "У нас все еще есть значения NaN и поэтому в целочисленное значения days_employed будем осуществлять перевод, после того как заполним пропуски."
   ]
  },
  {
   "cell_type": "code",
   "execution_count": 19,
   "id": "ac019ff1",
   "metadata": {
    "scrolled": true
   },
   "outputs": [
    {
     "data": {
      "text/plain": [
       "0"
      ]
     },
     "execution_count": 19,
     "metadata": {},
     "output_type": "execute_result"
    }
   ],
   "source": [
    "data.total_income = data.total_income.fillna(data.total_income.median()).astype('int')\n",
    "\n",
    "#Проверим остались ли значения >=0\n",
    "data[data.total_income <= 0].total_income.count()"
   ]
  },
  {
   "cell_type": "markdown",
   "id": "c213e95c",
   "metadata": {},
   "source": [
    "Теперь, когда в столбце total_income нет аномалий и пропущенных значений отфильтруем его по категориям."
   ]
  },
  {
   "cell_type": "code",
   "execution_count": 20,
   "id": "5d03c9fe",
   "metadata": {},
   "outputs": [
    {
     "data": {
      "text/plain": [
       "category_income\n",
       "A       25\n",
       "B     5015\n",
       "C    16014\n",
       "D      348\n",
       "E       22\n",
       "Name: total_income, dtype: int64"
      ]
     },
     "execution_count": 20,
     "metadata": {},
     "output_type": "execute_result"
    }
   ],
   "source": [
    "def category_income(total_income):\n",
    "    if total_income < 30000:\n",
    "        return 'E'\n",
    "    elif total_income < 50000:\n",
    "        return 'D'\n",
    "    elif total_income < 200000:\n",
    "        return 'C'\n",
    "    elif total_income < 1000000:\n",
    "        return 'B'\n",
    "    else:\n",
    "        return 'A'\n",
    "\n",
    "data['category_income'] = data.total_income.apply(category_income)\n",
    "data.groupby('category_income').total_income.count()"
   ]
  },
  {
   "cell_type": "markdown",
   "id": "b16447e5",
   "metadata": {},
   "source": [
    "Обработаем столбец days_employed - стаж работы в днях. В отличие от дохода, стаж не может стремится бесконечности. days_employed ограничен сроком начала и окончания трудовой деятельности и она не может превышать возраст клиента. По информации admmegion.ru cтаж засчитывается в отдельных случаях с 14 лет, если был заключен официальный трудовой договор в том числе на территории бывшего СССР."
   ]
  },
  {
   "cell_type": "code",
   "execution_count": 23,
   "id": "fb168048",
   "metadata": {},
   "outputs": [
    {
     "name": "stdout",
     "output_type": "stream",
     "text": [
      "Количество строк с нереалистичным стажем составляет 16.1% от всей таблицы\n"
     ]
    }
   ],
   "source": [
    "count_ureal_days = data[data.days_employed/365 > data.dob_years - 14]\n",
    "print(f'Количество строк с нереалистичным стажем составляет {round(count_ureal_days.category_age.count()/len(data) * 100, 1)}% от всей таблицы')"
   ]
  },
  {
   "cell_type": "markdown",
   "id": "eed1790f",
   "metadata": {},
   "source": [
    "Есть несколько вариантов почему это могло произойти:\n",
    "- Данные о стаже чаще заполняются в формате год\\месяц и ошибка произошла в процессе форматирования;\n",
    "- Данные были изначально некорректными;"
   ]
  },
  {
   "cell_type": "code",
   "execution_count": 24,
   "id": "03083f21",
   "metadata": {},
   "outputs": [
    {
     "name": "stdout",
     "output_type": "stream",
     "text": [
      "Максимальное значение стажа в годах превышающих dob_years в годах: 1100.6997273296713\n",
      "Минимальное значение стажа в годах превышающих dob_years в годах: 15.544841681382076\n"
     ]
    }
   ],
   "source": [
    "print(f'Максимальное значение стажа в годах превышающих dob_years в годах: {count_ureal_days.days_employed.max()/365}')  \n",
    "print(f'Минимальное значение стажа в годах превышающих dob_years в годах: {count_ureal_days.days_employed.min()/365}')  \n"
   ]
  },
  {
   "cell_type": "markdown",
   "id": "877ad84b",
   "metadata": {},
   "source": [
    "К сожалению, изменение столбца days_employed может еще сильнее его исказить, поэтому оставим их в этом виде, но заменим тип на целочисленный и заменим пропуски медиальным значением. В дальнейшем не будем опираться на эти данные, так как их корректность под вопросом."
   ]
  },
  {
   "cell_type": "code",
   "execution_count": 25,
   "id": "18aa7b31",
   "metadata": {},
   "outputs": [
    {
     "data": {
      "text/plain": [
       "66902.43787703343"
      ]
     },
     "execution_count": 25,
     "metadata": {},
     "output_type": "execute_result"
    }
   ],
   "source": [
    "data.days_employed.mean()"
   ]
  },
  {
   "cell_type": "code",
   "execution_count": 26,
   "id": "53905f50",
   "metadata": {},
   "outputs": [],
   "source": [
    "import numpy as np\n",
    "\n",
    "# Замена кривых значений пропусками\n",
    "data.loc[data.days_employed/365 > data.dob_years - 14, 'days_employed'] = np.nan\n",
    "\n",
    "# Заполнение пропусков средним значением стажа по возрастной группе\n",
    "data.days_employed = data.days_employed.fillna(data.groupby('category_age')['days_employed'].transform('mean'))"
   ]
  },
  {
   "cell_type": "code",
   "execution_count": 27,
   "id": "33e6c1ef",
   "metadata": {},
   "outputs": [
    {
     "data": {
      "text/plain": [
       "2515.636355075652"
      ]
     },
     "execution_count": 27,
     "metadata": {},
     "output_type": "execute_result"
    }
   ],
   "source": [
    "data.days_employed.mean()"
   ]
  },
  {
   "cell_type": "code",
   "execution_count": 28,
   "id": "3eff0c30",
   "metadata": {},
   "outputs": [
    {
     "name": "stdout",
     "output_type": "stream",
     "text": [
      "<class 'pandas.core.series.Series'>\n",
      "Index: 21424 entries, 0 to 21524\n",
      "Series name: days_employed\n",
      "Non-Null Count  Dtype\n",
      "--------------  -----\n",
      "21424 non-null  int32\n",
      "dtypes: int32(1)\n",
      "memory usage: 251.1 KB\n"
     ]
    }
   ],
   "source": [
    "data.days_employed = data.days_employed.astype('int')\n",
    "data.days_employed.info()"
   ]
  },
  {
   "cell_type": "markdown",
   "id": "a72d7707",
   "metadata": {},
   "source": [
    "То есть среднее по столбцу у тебя в итоге упало бы с 173 лет до 6.8 лет\n",
    "\n",
    "-----"
   ]
  },
  {
   "cell_type": "markdown",
   "id": "fe21d14a",
   "metadata": {},
   "source": [
    "Проверим последний раз наличие пропусков:"
   ]
  },
  {
   "cell_type": "code",
   "execution_count": 29,
   "id": "eabd7e8f",
   "metadata": {},
   "outputs": [
    {
     "data": {
      "text/plain": [
       "children            0\n",
       "days_employed       0\n",
       "dob_years           0\n",
       "education           0\n",
       "family_status       0\n",
       "gender              0\n",
       "income_type         0\n",
       "debt                0\n",
       "total_income        0\n",
       "purpose             0\n",
       "category_purpose    0\n",
       "category_age        0\n",
       "category_income     0\n",
       "dtype: int64"
      ]
     },
     "execution_count": 29,
     "metadata": {},
     "output_type": "execute_result"
    }
   ],
   "source": [
    "data.isna().sum()"
   ]
  },
  {
   "cell_type": "code",
   "execution_count": 30,
   "id": "22e09515",
   "metadata": {},
   "outputs": [
    {
     "data": {
      "text/plain": [
       "71"
      ]
     },
     "execution_count": 30,
     "metadata": {},
     "output_type": "execute_result"
    }
   ],
   "source": [
    "data.duplicated().sum()"
   ]
  },
  {
   "cell_type": "markdown",
   "id": "e4a3d7eb",
   "metadata": {},
   "source": [
    "[описание проекта](#description)"
   ]
  },
  {
   "cell_type": "markdown",
   "id": "d7305f2e",
   "metadata": {},
   "source": [
    "### Поиск дубликатов<a id=\"duplicated\"></a>"
   ]
  },
  {
   "cell_type": "markdown",
   "id": "646b307b",
   "metadata": {},
   "source": [
    "- проверим наличие скрытых дубликатов\n",
    "- проверим дубликаты методом duplicated().sum()\n",
    "- удалим дубликаты методом .drop_duplicates().reset_index(drop=True)"
   ]
  },
  {
   "cell_type": "code",
   "execution_count": 31,
   "id": "10351dc7",
   "metadata": {},
   "outputs": [
    {
     "data": {
      "text/plain": [
       "array([ 1,  0,  3,  2, -1,  4, 20,  5], dtype=int64)"
      ]
     },
     "execution_count": 31,
     "metadata": {},
     "output_type": "execute_result"
    }
   ],
   "source": [
    "data.children.unique()"
   ]
  },
  {
   "cell_type": "code",
   "execution_count": 32,
   "id": "0093cc9e",
   "metadata": {},
   "outputs": [],
   "source": [
    "data.children = abs(data.children)"
   ]
  },
  {
   "cell_type": "code",
   "execution_count": 33,
   "id": "15a4904d",
   "metadata": {},
   "outputs": [
    {
     "data": {
      "text/plain": [
       "array([ 1,  0,  3,  2,  4, 20,  5], dtype=int64)"
      ]
     },
     "execution_count": 33,
     "metadata": {},
     "output_type": "execute_result"
    }
   ],
   "source": [
    "data.children.unique()"
   ]
  },
  {
   "cell_type": "code",
   "execution_count": 34,
   "id": "24a6881a",
   "metadata": {},
   "outputs": [
    {
     "data": {
      "text/plain": [
       "71"
      ]
     },
     "execution_count": 34,
     "metadata": {},
     "output_type": "execute_result"
    }
   ],
   "source": [
    "data.duplicated().sum()"
   ]
  },
  {
   "cell_type": "code",
   "execution_count": 35,
   "id": "fe03a7c8",
   "metadata": {},
   "outputs": [],
   "source": [
    "data = data.drop_duplicates().reset_index(drop=True)"
   ]
  },
  {
   "cell_type": "code",
   "execution_count": 36,
   "id": "224d2d00",
   "metadata": {},
   "outputs": [
    {
     "data": {
      "text/plain": [
       "21353"
      ]
     },
     "execution_count": 36,
     "metadata": {},
     "output_type": "execute_result"
    }
   ],
   "source": [
    "len(data)"
   ]
  },
  {
   "cell_type": "code",
   "execution_count": 37,
   "id": "77905ec9",
   "metadata": {},
   "outputs": [
    {
     "data": {
      "text/html": [
       "<div>\n",
       "<style scoped>\n",
       "    .dataframe tbody tr th:only-of-type {\n",
       "        vertical-align: middle;\n",
       "    }\n",
       "\n",
       "    .dataframe tbody tr th {\n",
       "        vertical-align: top;\n",
       "    }\n",
       "\n",
       "    .dataframe thead th {\n",
       "        text-align: right;\n",
       "    }\n",
       "</style>\n",
       "<table border=\"1\" class=\"dataframe\">\n",
       "  <thead>\n",
       "    <tr style=\"text-align: right;\">\n",
       "      <th></th>\n",
       "      <th>children</th>\n",
       "      <th>education</th>\n",
       "      <th>family_status</th>\n",
       "      <th>gender</th>\n",
       "      <th>income_type</th>\n",
       "      <th>debt</th>\n",
       "      <th>purpose</th>\n",
       "      <th>category_purpose</th>\n",
       "      <th>category_age</th>\n",
       "      <th>category_income</th>\n",
       "    </tr>\n",
       "  </thead>\n",
       "  <tbody>\n",
       "    <tr>\n",
       "      <th>0</th>\n",
       "      <td>1</td>\n",
       "      <td>высшее</td>\n",
       "      <td>женат / замужем</td>\n",
       "      <td>F</td>\n",
       "      <td>сотрудник</td>\n",
       "      <td>0</td>\n",
       "      <td>покупка жилья</td>\n",
       "      <td>операции с недвижимостью</td>\n",
       "      <td>взрослый 35+</td>\n",
       "      <td>B</td>\n",
       "    </tr>\n",
       "    <tr>\n",
       "      <th>1</th>\n",
       "      <td>1</td>\n",
       "      <td>среднее</td>\n",
       "      <td>женат / замужем</td>\n",
       "      <td>F</td>\n",
       "      <td>сотрудник</td>\n",
       "      <td>0</td>\n",
       "      <td>приобретение автомобиля</td>\n",
       "      <td>операции с автомобилем</td>\n",
       "      <td>взрослый 35+</td>\n",
       "      <td>C</td>\n",
       "    </tr>\n",
       "    <tr>\n",
       "      <th>2</th>\n",
       "      <td>0</td>\n",
       "      <td>среднее</td>\n",
       "      <td>женат / замужем</td>\n",
       "      <td>M</td>\n",
       "      <td>сотрудник</td>\n",
       "      <td>0</td>\n",
       "      <td>покупка жилья</td>\n",
       "      <td>операции с недвижимостью</td>\n",
       "      <td>молодой 18+</td>\n",
       "      <td>C</td>\n",
       "    </tr>\n",
       "    <tr>\n",
       "      <th>3</th>\n",
       "      <td>3</td>\n",
       "      <td>среднее</td>\n",
       "      <td>женат / замужем</td>\n",
       "      <td>M</td>\n",
       "      <td>сотрудник</td>\n",
       "      <td>0</td>\n",
       "      <td>дополнительное образование</td>\n",
       "      <td>получение образования</td>\n",
       "      <td>молодой 18+</td>\n",
       "      <td>B</td>\n",
       "    </tr>\n",
       "    <tr>\n",
       "      <th>4</th>\n",
       "      <td>0</td>\n",
       "      <td>среднее</td>\n",
       "      <td>гражданский брак</td>\n",
       "      <td>F</td>\n",
       "      <td>пенсионер</td>\n",
       "      <td>0</td>\n",
       "      <td>сыграть свадьбу</td>\n",
       "      <td>проведение свадьбы</td>\n",
       "      <td>взрослый 35+</td>\n",
       "      <td>C</td>\n",
       "    </tr>\n",
       "  </tbody>\n",
       "</table>\n",
       "</div>"
      ],
      "text/plain": [
       "   children education     family_status gender income_type  debt  \\\n",
       "0         1    высшее   женат / замужем      F   сотрудник     0   \n",
       "1         1   среднее   женат / замужем      F   сотрудник     0   \n",
       "2         0   среднее   женат / замужем      M   сотрудник     0   \n",
       "3         3   среднее   женат / замужем      M   сотрудник     0   \n",
       "4         0   среднее  гражданский брак      F   пенсионер     0   \n",
       "\n",
       "                      purpose          category_purpose  category_age  \\\n",
       "0               покупка жилья  операции с недвижимостью  взрослый 35+   \n",
       "1     приобретение автомобиля    операции с автомобилем  взрослый 35+   \n",
       "2               покупка жилья  операции с недвижимостью   молодой 18+   \n",
       "3  дополнительное образование     получение образования   молодой 18+   \n",
       "4             сыграть свадьбу        проведение свадьбы  взрослый 35+   \n",
       "\n",
       "  category_income  \n",
       "0               B  \n",
       "1               C  \n",
       "2               C  \n",
       "3               B  \n",
       "4               C  "
      ]
     },
     "execution_count": 37,
     "metadata": {},
     "output_type": "execute_result"
    }
   ],
   "source": [
    "data = data.drop(['days_employed','dob_years','total_income'], axis=1)\n",
    "data.head()"
   ]
  },
  {
   "cell_type": "markdown",
   "id": "3e6d5f30",
   "metadata": {},
   "source": [
    "Для подсчета дубликатов использовался методы duplicated().sum(), потому что в моем арсенале имеется этот метод и ручной посчет, так как последний при таком объеме данных не гарантирует быстрое и точное решения, поэтому был использован именно duplicated().sum()"
   ]
  },
  {
   "cell_type": "markdown",
   "id": "e1f09ae9",
   "metadata": {},
   "source": [
    "[описание проекта](#description)"
   ]
  },
  {
   "cell_type": "markdown",
   "id": "87eda494",
   "metadata": {},
   "source": [
    "### Ответить на вопросы:<a id=\"answer\"></a>\n",
    " Чтобы ответить на вопросы:\n",
    " - Проверим количество строк в каждой группе, чтобы понять какая разница в количестве данных и на какие из них не стоит опираться;\n",
    " - Проверим какой процент данных выделяется в таблицах с помощью среднего кол-ва значений debt по столбцам;\n",
    " - Попробуем подумать и интерпретировать как-нибудь"
   ]
  },
  {
   "cell_type": "code",
   "execution_count": 38,
   "id": "4ccb40ac",
   "metadata": {},
   "outputs": [
    {
     "name": "stdout",
     "output_type": "stream",
     "text": [
      "Количество клиентов с фактом наличия задолженности по возврату составляет 8% от предоставленных данных\n"
     ]
    }
   ],
   "source": [
    "data.debt.value_counts()\n",
    "print(f'Количество клиентов с фактом наличия задолженности по возврату составляет {round(data[data.debt >0].debt.count()/len(data) * 100)}% от предоставленных данных')"
   ]
  },
  {
   "cell_type": "code",
   "execution_count": 39,
   "id": "1982fa95",
   "metadata": {
    "scrolled": true
   },
   "outputs": [
    {
     "data": {
      "text/plain": [
       "category_income\n",
       "C    15943\n",
       "B     5015\n",
       "D      348\n",
       "A       25\n",
       "E       22\n",
       "Name: count, dtype: int64"
      ]
     },
     "execution_count": 39,
     "metadata": {},
     "output_type": "execute_result"
    }
   ],
   "source": [
    "data.category_income.value_counts()"
   ]
  },
  {
   "cell_type": "markdown",
   "id": "c0323707",
   "metadata": {},
   "source": [
    "Уберем данные, где меньше 100 человек в группе тк этих данных слишком мало для того чтобы делать выводы"
   ]
  },
  {
   "cell_type": "code",
   "execution_count": 40,
   "id": "ed69c38d",
   "metadata": {},
   "outputs": [
    {
     "data": {
      "text/plain": [
       "children\n",
       "0     14022\n",
       "1      4839\n",
       "2      2039\n",
       "3       328\n",
       "20       75\n",
       "4        41\n",
       "5         9\n",
       "Name: count, dtype: int64"
      ]
     },
     "execution_count": 40,
     "metadata": {},
     "output_type": "execute_result"
    }
   ],
   "source": [
    "data.children.value_counts()"
   ]
  },
  {
   "cell_type": "code",
   "execution_count": 41,
   "id": "a9fad160",
   "metadata": {},
   "outputs": [],
   "source": [
    "data = data[(data.groupby('children')['debt'].transform('count') > 100) & \n",
    "            (data.groupby('category_income')['debt'].transform('count') > 100) &\n",
    "            (data.groupby('income_type')['debt'].transform('count') > 100)]\n"
   ]
  },
  {
   "cell_type": "markdown",
   "id": "508bc148",
   "metadata": {},
   "source": [
    "Возьмем столбец category_income и посмотрим как он влияет на возврат кредита в срок"
   ]
  },
  {
   "cell_type": "code",
   "execution_count": 42,
   "id": "9351d6b7",
   "metadata": {},
   "outputs": [
    {
     "data": {
      "text/html": [
       "<div>\n",
       "<style scoped>\n",
       "    .dataframe tbody tr th:only-of-type {\n",
       "        vertical-align: middle;\n",
       "    }\n",
       "\n",
       "    .dataframe tbody tr th {\n",
       "        vertical-align: top;\n",
       "    }\n",
       "\n",
       "    .dataframe thead th {\n",
       "        text-align: right;\n",
       "    }\n",
       "</style>\n",
       "<table border=\"1\" class=\"dataframe\">\n",
       "  <thead>\n",
       "    <tr style=\"text-align: right;\">\n",
       "      <th>category_income</th>\n",
       "      <th>B</th>\n",
       "      <th>C</th>\n",
       "      <th>D</th>\n",
       "    </tr>\n",
       "    <tr>\n",
       "      <th>children</th>\n",
       "      <th></th>\n",
       "      <th></th>\n",
       "      <th></th>\n",
       "    </tr>\n",
       "  </thead>\n",
       "  <tbody>\n",
       "    <tr>\n",
       "      <th>0</th>\n",
       "      <td>6.8</td>\n",
       "      <td>7.8</td>\n",
       "      <td>5.0</td>\n",
       "    </tr>\n",
       "    <tr>\n",
       "      <th>1</th>\n",
       "      <td>7.5</td>\n",
       "      <td>9.7</td>\n",
       "      <td>6.0</td>\n",
       "    </tr>\n",
       "    <tr>\n",
       "      <th>2</th>\n",
       "      <td>8.2</td>\n",
       "      <td>9.8</td>\n",
       "      <td>11.8</td>\n",
       "    </tr>\n",
       "    <tr>\n",
       "      <th>3</th>\n",
       "      <td>4.5</td>\n",
       "      <td>9.4</td>\n",
       "      <td>20.0</td>\n",
       "    </tr>\n",
       "  </tbody>\n",
       "</table>\n",
       "</div>"
      ],
      "text/plain": [
       "category_income    B    C     D\n",
       "children                       \n",
       "0                6.8  7.8   5.0\n",
       "1                7.5  9.7   6.0\n",
       "2                8.2  9.8  11.8\n",
       "3                4.5  9.4  20.0"
      ]
     },
     "execution_count": 42,
     "metadata": {},
     "output_type": "execute_result"
    }
   ],
   "source": [
    "round(data.pivot_table(\n",
    "    index = 'children',\n",
    "    columns = 'category_income',\n",
    "    values = 'debt',\n",
    "    aggfunc = 'mean') * 100, 1)"
   ]
  },
  {
   "cell_type": "code",
   "execution_count": 43,
   "id": "d17f0f82",
   "metadata": {},
   "outputs": [
    {
     "data": {
      "text/plain": [
       "debt\n",
       "0    84\n",
       "1     4\n",
       "Name: count, dtype: int64"
      ]
     },
     "execution_count": 43,
     "metadata": {},
     "output_type": "execute_result"
    }
   ],
   "source": [
    "data[(data.children == 3) & (data.category_income == 'B')].debt.value_counts()"
   ]
  },
  {
   "cell_type": "markdown",
   "id": "a80ea13e",
   "metadata": {},
   "source": [
    " - в категории С прослеживается, чем больше детей, тем больше % debt;\n",
    " - в категории D напротив,чем больше детей, тем больше % debt;\n",
    " - в категории B чем больше детей, тем больше % debt, исключение клиенты с 3 детьми там %debt меньше 5%;"
   ]
  },
  {
   "cell_type": "code",
   "execution_count": 44,
   "id": "4a27fec5",
   "metadata": {},
   "outputs": [
    {
     "data": {
      "text/html": [
       "<div>\n",
       "<style scoped>\n",
       "    .dataframe tbody tr th:only-of-type {\n",
       "        vertical-align: middle;\n",
       "    }\n",
       "\n",
       "    .dataframe tbody tr th {\n",
       "        vertical-align: top;\n",
       "    }\n",
       "\n",
       "    .dataframe thead th {\n",
       "        text-align: right;\n",
       "    }\n",
       "</style>\n",
       "<table border=\"1\" class=\"dataframe\">\n",
       "  <thead>\n",
       "    <tr style=\"text-align: right;\">\n",
       "      <th>category_income</th>\n",
       "      <th>B</th>\n",
       "      <th>C</th>\n",
       "      <th>D</th>\n",
       "    </tr>\n",
       "    <tr>\n",
       "      <th>category_age</th>\n",
       "      <th></th>\n",
       "      <th></th>\n",
       "      <th></th>\n",
       "    </tr>\n",
       "  </thead>\n",
       "  <tbody>\n",
       "    <tr>\n",
       "      <th>взрослый 35+</th>\n",
       "      <td>6.7</td>\n",
       "      <td>7.7</td>\n",
       "      <td>5.8</td>\n",
       "    </tr>\n",
       "    <tr>\n",
       "      <th>молодой 18+</th>\n",
       "      <td>8.6</td>\n",
       "      <td>11.3</td>\n",
       "      <td>7.6</td>\n",
       "    </tr>\n",
       "    <tr>\n",
       "      <th>старый 60+</th>\n",
       "      <td>3.8</td>\n",
       "      <td>5.1</td>\n",
       "      <td>5.5</td>\n",
       "    </tr>\n",
       "  </tbody>\n",
       "</table>\n",
       "</div>"
      ],
      "text/plain": [
       "category_income    B     C    D\n",
       "category_age                   \n",
       "взрослый 35+     6.7   7.7  5.8\n",
       "молодой 18+      8.6  11.3  7.6\n",
       "старый 60+       3.8   5.1  5.5"
      ]
     },
     "execution_count": 44,
     "metadata": {},
     "output_type": "execute_result"
    }
   ],
   "source": [
    "round(data.pivot_table(\n",
    "    index = 'category_age',\n",
    "    columns = 'category_income',\n",
    "    values = 'debt',\n",
    "    aggfunc = 'mean') * 100, 1)"
   ]
  },
  {
   "cell_type": "markdown",
   "id": "aa084bf7",
   "metadata": {},
   "source": [
    "- возрастная категория 60+ так же имеет самый низкий % debt\n",
    "- возрастная категория 18+ так же имеет самый высокий % debt в каждой категории дохода"
   ]
  },
  {
   "cell_type": "code",
   "execution_count": 45,
   "id": "d6d3f93b",
   "metadata": {},
   "outputs": [
    {
     "data": {
      "text/html": [
       "<div>\n",
       "<style scoped>\n",
       "    .dataframe tbody tr th:only-of-type {\n",
       "        vertical-align: middle;\n",
       "    }\n",
       "\n",
       "    .dataframe tbody tr th {\n",
       "        vertical-align: top;\n",
       "    }\n",
       "\n",
       "    .dataframe thead th {\n",
       "        text-align: right;\n",
       "    }\n",
       "</style>\n",
       "<table border=\"1\" class=\"dataframe\">\n",
       "  <thead>\n",
       "    <tr style=\"text-align: right;\">\n",
       "      <th>category_income</th>\n",
       "      <th>B</th>\n",
       "      <th>C</th>\n",
       "      <th>D</th>\n",
       "    </tr>\n",
       "    <tr>\n",
       "      <th>category_purpose</th>\n",
       "      <th></th>\n",
       "      <th></th>\n",
       "      <th></th>\n",
       "    </tr>\n",
       "  </thead>\n",
       "  <tbody>\n",
       "    <tr>\n",
       "      <th>операции с автомобилем</th>\n",
       "      <td>8.3</td>\n",
       "      <td>9.5</td>\n",
       "      <td>14.1</td>\n",
       "    </tr>\n",
       "    <tr>\n",
       "      <th>операции с недвижимостью</th>\n",
       "      <td>6.6</td>\n",
       "      <td>7.5</td>\n",
       "      <td>3.7</td>\n",
       "    </tr>\n",
       "    <tr>\n",
       "      <th>получение образования</th>\n",
       "      <td>7.8</td>\n",
       "      <td>9.9</td>\n",
       "      <td>2.6</td>\n",
       "    </tr>\n",
       "    <tr>\n",
       "      <th>проведение свадьбы</th>\n",
       "      <td>5.2</td>\n",
       "      <td>8.7</td>\n",
       "      <td>8.8</td>\n",
       "    </tr>\n",
       "    <tr>\n",
       "      <th>ремонт\\строительство</th>\n",
       "      <td>7.3</td>\n",
       "      <td>7.2</td>\n",
       "      <td>3.2</td>\n",
       "    </tr>\n",
       "  </tbody>\n",
       "</table>\n",
       "</div>"
      ],
      "text/plain": [
       "category_income             B    C     D\n",
       "category_purpose                        \n",
       "операции с автомобилем    8.3  9.5  14.1\n",
       "операции с недвижимостью  6.6  7.5   3.7\n",
       "получение образования     7.8  9.9   2.6\n",
       "проведение свадьбы        5.2  8.7   8.8\n",
       "ремонт\\строительство      7.3  7.2   3.2"
      ]
     },
     "execution_count": 45,
     "metadata": {},
     "output_type": "execute_result"
    }
   ],
   "source": [
    "round(data.pivot_table(\n",
    "    index = 'category_purpose',\n",
    "    columns = 'category_income',\n",
    "    values = 'debt',\n",
    "    aggfunc = 'mean') * 100, 1)"
   ]
  },
  {
   "cell_type": "markdown",
   "id": "55ac215a",
   "metadata": {},
   "source": [
    "- У категории D в большинстве category_purpose наименьший % debt и наибольший операции с авто и проведение свадьбы, наименьший образование;\n",
    "- С образование max %debt -10% по всем категориям в этой таблице, в среднем по таблице наибольший %debt в этой категории min-7.2% ремонт;"
   ]
  },
  {
   "cell_type": "code",
   "execution_count": 46,
   "id": "1b198389",
   "metadata": {},
   "outputs": [
    {
     "data": {
      "text/html": [
       "<div>\n",
       "<style scoped>\n",
       "    .dataframe tbody tr th:only-of-type {\n",
       "        vertical-align: middle;\n",
       "    }\n",
       "\n",
       "    .dataframe tbody tr th {\n",
       "        vertical-align: top;\n",
       "    }\n",
       "\n",
       "    .dataframe thead th {\n",
       "        text-align: right;\n",
       "    }\n",
       "</style>\n",
       "<table border=\"1\" class=\"dataframe\">\n",
       "  <thead>\n",
       "    <tr style=\"text-align: right;\">\n",
       "      <th>category_income</th>\n",
       "      <th>B</th>\n",
       "      <th>C</th>\n",
       "      <th>D</th>\n",
       "    </tr>\n",
       "    <tr>\n",
       "      <th>family_status</th>\n",
       "      <th></th>\n",
       "      <th></th>\n",
       "      <th></th>\n",
       "    </tr>\n",
       "  </thead>\n",
       "  <tbody>\n",
       "    <tr>\n",
       "      <th>в разводе</th>\n",
       "      <td>6.5</td>\n",
       "      <td>7.2</td>\n",
       "      <td>11.8</td>\n",
       "    </tr>\n",
       "    <tr>\n",
       "      <th>вдовец / вдова</th>\n",
       "      <td>5.8</td>\n",
       "      <td>6.9</td>\n",
       "      <td>0.0</td>\n",
       "    </tr>\n",
       "    <tr>\n",
       "      <th>гражданский брак</th>\n",
       "      <td>6.6</td>\n",
       "      <td>10.2</td>\n",
       "      <td>8.1</td>\n",
       "    </tr>\n",
       "    <tr>\n",
       "      <th>женат / замужем</th>\n",
       "      <td>6.8</td>\n",
       "      <td>7.8</td>\n",
       "      <td>5.4</td>\n",
       "    </tr>\n",
       "    <tr>\n",
       "      <th>не женат / не замужем</th>\n",
       "      <td>9.4</td>\n",
       "      <td>9.9</td>\n",
       "      <td>8.7</td>\n",
       "    </tr>\n",
       "  </tbody>\n",
       "</table>\n",
       "</div>"
      ],
      "text/plain": [
       "category_income          B     C     D\n",
       "family_status                         \n",
       "в разводе              6.5   7.2  11.8\n",
       "вдовец / вдова         5.8   6.9   0.0\n",
       "гражданский брак       6.6  10.2   8.1\n",
       "женат / замужем        6.8   7.8   5.4\n",
       "не женат / не замужем  9.4   9.9   8.7"
      ]
     },
     "execution_count": 46,
     "metadata": {},
     "output_type": "execute_result"
    }
   ],
   "source": [
    "round(data.pivot_table(\n",
    "    index = 'family_status',\n",
    "    columns = 'category_income',\n",
    "    values = 'debt',\n",
    "    aggfunc = 'mean') * 100, 1)"
   ]
  },
  {
   "cell_type": "markdown",
   "id": "8c6cdf48",
   "metadata": {},
   "source": [
    "- категория С стабильно высокий debt % в сравнении с B и D,, наибольший в гр.брак наименьший вдовы;\n",
    "- B высокий % не в браке низкий у вдовцов\n",
    "- в категории D самый высокий % debt в разводе, самый низкий у вдов высокий не в браке и гр браке;"
   ]
  },
  {
   "cell_type": "code",
   "execution_count": 47,
   "id": "4dad4fec",
   "metadata": {},
   "outputs": [
    {
     "data": {
      "text/html": [
       "<div>\n",
       "<style scoped>\n",
       "    .dataframe tbody tr th:only-of-type {\n",
       "        vertical-align: middle;\n",
       "    }\n",
       "\n",
       "    .dataframe tbody tr th {\n",
       "        vertical-align: top;\n",
       "    }\n",
       "\n",
       "    .dataframe thead th {\n",
       "        text-align: right;\n",
       "    }\n",
       "</style>\n",
       "<table border=\"1\" class=\"dataframe\">\n",
       "  <thead>\n",
       "    <tr style=\"text-align: right;\">\n",
       "      <th>category_purpose</th>\n",
       "      <th>операции с автомобилем</th>\n",
       "      <th>операции с недвижимостью</th>\n",
       "      <th>получение образования</th>\n",
       "      <th>проведение свадьбы</th>\n",
       "      <th>ремонт\\строительство</th>\n",
       "    </tr>\n",
       "    <tr>\n",
       "      <th>family_status</th>\n",
       "      <th></th>\n",
       "      <th></th>\n",
       "      <th></th>\n",
       "      <th></th>\n",
       "      <th></th>\n",
       "    </tr>\n",
       "  </thead>\n",
       "  <tbody>\n",
       "    <tr>\n",
       "      <th>в разводе</th>\n",
       "      <td>7.6</td>\n",
       "      <td>6.4</td>\n",
       "      <td>7.2</td>\n",
       "      <td>NaN</td>\n",
       "      <td>8.7</td>\n",
       "    </tr>\n",
       "    <tr>\n",
       "      <th>вдовец / вдова</th>\n",
       "      <td>8.8</td>\n",
       "      <td>5.6</td>\n",
       "      <td>7.6</td>\n",
       "      <td>NaN</td>\n",
       "      <td>3.9</td>\n",
       "    </tr>\n",
       "    <tr>\n",
       "      <th>гражданский брак</th>\n",
       "      <td>11.9</td>\n",
       "      <td>9.3</td>\n",
       "      <td>14.8</td>\n",
       "      <td>7.9</td>\n",
       "      <td>9.5</td>\n",
       "    </tr>\n",
       "    <tr>\n",
       "      <th>женат / замужем</th>\n",
       "      <td>8.3</td>\n",
       "      <td>6.9</td>\n",
       "      <td>8.4</td>\n",
       "      <td>NaN</td>\n",
       "      <td>6.9</td>\n",
       "    </tr>\n",
       "    <tr>\n",
       "      <th>не женат / не замужем</th>\n",
       "      <td>13.0</td>\n",
       "      <td>8.2</td>\n",
       "      <td>10.9</td>\n",
       "      <td>NaN</td>\n",
       "      <td>7.5</td>\n",
       "    </tr>\n",
       "  </tbody>\n",
       "</table>\n",
       "</div>"
      ],
      "text/plain": [
       "category_purpose       операции с автомобилем  операции с недвижимостью  \\\n",
       "family_status                                                             \n",
       "в разводе                                 7.6                       6.4   \n",
       "вдовец / вдова                            8.8                       5.6   \n",
       "гражданский брак                         11.9                       9.3   \n",
       "женат / замужем                           8.3                       6.9   \n",
       "не женат / не замужем                    13.0                       8.2   \n",
       "\n",
       "category_purpose       получение образования  проведение свадьбы  \\\n",
       "family_status                                                      \n",
       "в разводе                                7.2                 NaN   \n",
       "вдовец / вдова                           7.6                 NaN   \n",
       "гражданский брак                        14.8                 7.9   \n",
       "женат / замужем                          8.4                 NaN   \n",
       "не женат / не замужем                   10.9                 NaN   \n",
       "\n",
       "category_purpose       ремонт\\строительство  \n",
       "family_status                                \n",
       "в разводе                               8.7  \n",
       "вдовец / вдова                          3.9  \n",
       "гражданский брак                        9.5  \n",
       "женат / замужем                         6.9  \n",
       "не женат / не замужем                   7.5  "
      ]
     },
     "execution_count": 47,
     "metadata": {},
     "output_type": "execute_result"
    }
   ],
   "source": [
    "round(data.pivot_table(\n",
    "    index = 'family_status',\n",
    "    columns = 'category_purpose',\n",
    "    values = 'debt',\n",
    "    aggfunc = 'mean') * 100, 1)"
   ]
  },
  {
   "cell_type": "markdown",
   "id": "ea96121d",
   "metadata": {},
   "source": [
    "- высокий dept% у клиентов по в гр.браке получение образования 14.8% низкий недвижимость 9.3%;\n",
    "- не в браке (13.1% авто) 7.5% ремонт\n",
    "- клиенты в разводе(8.7% ремонт & 6.4% недвиж) и вдовцы имеют низкий dept (самый высокий авто 8.8%, самый низкий ремонт 3.9%)\n",
    "- брак (8.4% образование, 6.9% ремонт)"
   ]
  },
  {
   "cell_type": "markdown",
   "id": "63ccf0f9",
   "metadata": {},
   "source": [
    "Проверим связь сп, наличия детей и debt%"
   ]
  },
  {
   "cell_type": "code",
   "execution_count": 48,
   "id": "90bbc9da",
   "metadata": {},
   "outputs": [
    {
     "data": {
      "text/html": [
       "<div>\n",
       "<style scoped>\n",
       "    .dataframe tbody tr th:only-of-type {\n",
       "        vertical-align: middle;\n",
       "    }\n",
       "\n",
       "    .dataframe tbody tr th {\n",
       "        vertical-align: top;\n",
       "    }\n",
       "\n",
       "    .dataframe thead th {\n",
       "        text-align: right;\n",
       "    }\n",
       "</style>\n",
       "<table border=\"1\" class=\"dataframe\">\n",
       "  <thead>\n",
       "    <tr style=\"text-align: right;\">\n",
       "      <th>family_status</th>\n",
       "      <th>в разводе</th>\n",
       "      <th>вдовец / вдова</th>\n",
       "      <th>гражданский брак</th>\n",
       "      <th>женат / замужем</th>\n",
       "      <th>не женат / не замужем</th>\n",
       "    </tr>\n",
       "    <tr>\n",
       "      <th>children</th>\n",
       "      <th></th>\n",
       "      <th></th>\n",
       "      <th></th>\n",
       "      <th></th>\n",
       "      <th></th>\n",
       "    </tr>\n",
       "  </thead>\n",
       "  <tbody>\n",
       "    <tr>\n",
       "      <th>0</th>\n",
       "      <td>7.1</td>\n",
       "      <td>6.2</td>\n",
       "      <td>8.3</td>\n",
       "      <td>6.9</td>\n",
       "      <td>9.4</td>\n",
       "    </tr>\n",
       "    <tr>\n",
       "      <th>1</th>\n",
       "      <td>6.7</td>\n",
       "      <td>8.6</td>\n",
       "      <td>11.9</td>\n",
       "      <td>8.1</td>\n",
       "      <td>11.3</td>\n",
       "    </tr>\n",
       "    <tr>\n",
       "      <th>2</th>\n",
       "      <td>8.9</td>\n",
       "      <td>15.0</td>\n",
       "      <td>8.8</td>\n",
       "      <td>9.5</td>\n",
       "      <td>12.2</td>\n",
       "    </tr>\n",
       "    <tr>\n",
       "      <th>3</th>\n",
       "      <td>9.1</td>\n",
       "      <td>0.0</td>\n",
       "      <td>14.3</td>\n",
       "      <td>6.9</td>\n",
       "      <td>12.5</td>\n",
       "    </tr>\n",
       "  </tbody>\n",
       "</table>\n",
       "</div>"
      ],
      "text/plain": [
       "family_status  в разводе  вдовец / вдова  гражданский брак  женат / замужем  \\\n",
       "children                                                                      \n",
       "0                    7.1             6.2               8.3              6.9   \n",
       "1                    6.7             8.6              11.9              8.1   \n",
       "2                    8.9            15.0               8.8              9.5   \n",
       "3                    9.1             0.0              14.3              6.9   \n",
       "\n",
       "family_status  не женат / не замужем  \n",
       "children                              \n",
       "0                                9.4  \n",
       "1                               11.3  \n",
       "2                               12.2  \n",
       "3                               12.5  "
      ]
     },
     "execution_count": 48,
     "metadata": {},
     "output_type": "execute_result"
    }
   ],
   "source": [
    "round(data.pivot_table(\n",
    "    index = 'children',\n",
    "    columns = 'family_status',\n",
    "    values = 'debt',\n",
    "    aggfunc = 'mean') * 100, 1)"
   ]
  },
  {
   "cell_type": "markdown",
   "id": "148ea835",
   "metadata": {},
   "source": [
    "Проверим столбец \"вдовец/вдова\" на количество строк"
   ]
  },
  {
   "cell_type": "code",
   "execution_count": 48,
   "id": "b178b471",
   "metadata": {},
   "outputs": [
    {
     "data": {
      "text/plain": [
       "debt\n",
       "0    6\n",
       "Name: count, dtype: int64"
      ]
     },
     "execution_count": 48,
     "metadata": {},
     "output_type": "execute_result"
    }
   ],
   "source": [
    "data[(data.family_status == 'вдовец / вдова') & (data.children == 3)].debt.value_counts()"
   ]
  },
  {
   "cell_type": "markdown",
   "id": "12b9633c",
   "metadata": {},
   "source": [
    "- гр брак как признак высокого %dept\n",
    "- не женат/не замужем, в разводе(исключение 1 ребенок) - чем больше детей, тем больше риск увеличения %dept и возможно у вдов так же возможно\n",
    "- в браке многодетные(3 ребенка) от 0 до 2 детей % растет, а при 3х % debt меньше, чем при 0"
   ]
  },
  {
   "cell_type": "code",
   "execution_count": 49,
   "id": "dca829e8",
   "metadata": {},
   "outputs": [
    {
     "data": {
      "text/html": [
       "<div>\n",
       "<style scoped>\n",
       "    .dataframe tbody tr th:only-of-type {\n",
       "        vertical-align: middle;\n",
       "    }\n",
       "\n",
       "    .dataframe tbody tr th {\n",
       "        vertical-align: top;\n",
       "    }\n",
       "\n",
       "    .dataframe thead th {\n",
       "        text-align: right;\n",
       "    }\n",
       "</style>\n",
       "<table border=\"1\" class=\"dataframe\">\n",
       "  <thead>\n",
       "    <tr style=\"text-align: right;\">\n",
       "      <th>category_purpose</th>\n",
       "      <th>операции с автомобилем</th>\n",
       "      <th>операции с недвижимостью</th>\n",
       "      <th>получение образования</th>\n",
       "      <th>проведение свадьбы</th>\n",
       "      <th>ремонт\\строительство</th>\n",
       "    </tr>\n",
       "    <tr>\n",
       "      <th>children</th>\n",
       "      <th></th>\n",
       "      <th></th>\n",
       "      <th></th>\n",
       "      <th></th>\n",
       "      <th></th>\n",
       "    </tr>\n",
       "  </thead>\n",
       "  <tbody>\n",
       "    <tr>\n",
       "      <th>0</th>\n",
       "      <td>8.5</td>\n",
       "      <td>6.8</td>\n",
       "      <td>8.7</td>\n",
       "      <td>7.5</td>\n",
       "      <td>6.5</td>\n",
       "    </tr>\n",
       "    <tr>\n",
       "      <th>1</th>\n",
       "      <td>10.6</td>\n",
       "      <td>8.1</td>\n",
       "      <td>10.3</td>\n",
       "      <td>9.6</td>\n",
       "      <td>7.6</td>\n",
       "    </tr>\n",
       "    <tr>\n",
       "      <th>2</th>\n",
       "      <td>11.8</td>\n",
       "      <td>8.2</td>\n",
       "      <td>11.5</td>\n",
       "      <td>5.6</td>\n",
       "      <td>9.9</td>\n",
       "    </tr>\n",
       "    <tr>\n",
       "      <th>3</th>\n",
       "      <td>8.3</td>\n",
       "      <td>7.0</td>\n",
       "      <td>5.8</td>\n",
       "      <td>15.6</td>\n",
       "      <td>10.5</td>\n",
       "    </tr>\n",
       "  </tbody>\n",
       "</table>\n",
       "</div>"
      ],
      "text/plain": [
       "category_purpose  операции с автомобилем  операции с недвижимостью  \\\n",
       "children                                                             \n",
       "0                                    8.5                       6.8   \n",
       "1                                   10.6                       8.1   \n",
       "2                                   11.8                       8.2   \n",
       "3                                    8.3                       7.0   \n",
       "\n",
       "category_purpose  получение образования  проведение свадьбы  \\\n",
       "children                                                      \n",
       "0                                   8.7                 7.5   \n",
       "1                                  10.3                 9.6   \n",
       "2                                  11.5                 5.6   \n",
       "3                                   5.8                15.6   \n",
       "\n",
       "category_purpose  ремонт\\строительство  \n",
       "children                                \n",
       "0                                  6.5  \n",
       "1                                  7.6  \n",
       "2                                  9.9  \n",
       "3                                 10.5  "
      ]
     },
     "execution_count": 49,
     "metadata": {},
     "output_type": "execute_result"
    }
   ],
   "source": [
    "round(data.pivot_table(\n",
    "    index = 'children',\n",
    "    columns = 'category_purpose',\n",
    "    values = 'debt',\n",
    "    aggfunc = 'mean') * 100, 1)"
   ]
  },
  {
   "cell_type": "markdown",
   "id": "a59033f8",
   "metadata": {},
   "source": [
    "- Наименьший %debt в среднем по строке с бездетными до 8.7%(образование)\n",
    "- 1 ребенок 7.6% ремонт - 10.6% авто\n",
    "- 2 ребенок 11.8% авто 11.5% образование - 5.6% свадьба\n",
    "- 3 ребенка 15.6% свадьба - 5.8% образование\n",
    "- ремонт %debt растет по возрастанию детей, а авто, недвижимость, образование до 3 ребенка "
   ]
  },
  {
   "cell_type": "markdown",
   "id": "517463d1",
   "metadata": {},
   "source": [
    "[описание проекта](#description)"
   ]
  },
  {
   "cell_type": "markdown",
   "id": "06101a7e",
   "metadata": {},
   "source": [
    "#### Категория D: \n",
    "##### Итог: стабильные;\n",
    "#####  фактор риска: \n",
    "- наличие детей, возраст 60+; \n",
    "- рискованные цели: автокредит;\n",
    "- развод, не женат\\не замужем и гражданский брак.\n",
    "\n",
    "#### Категория С: \n",
    "##### Итог: нестабильные;\n",
    "##### факторы риска:\n",
    "- наличие детей, возраст 18-35;\n",
    "- цели: образование, автокредит;\n",
    "- женат\\замужем, гражданский брак\n",
    "##### минимальный риск при:\n",
    "- отсутствие детей\n",
    "- возраст 60+\n",
    "- строительство\\недвижимость\n",
    "- сп в разводе\n",
    "#### Категория B:\n",
    " ##### Итог: средняя стабильные;\n",
    " ##### факторы риска:\n",
    "- количество детей от 0 до 2;\n",
    "- автокредиты;\n",
    "- сп: не женат\\не замужем\n",
    "##### минимальный риск при:\n",
    "- количество детей 3;\n",
    "- возраст 60+;\n",
    "- кредит на свадьбу;\n",
    "- вдовцы\n",
    "\n",
    "#### Дополнительные факторы:\n",
    "     - Наибольший dept операции с автомобилем и получение образования\n",
    "     - высокий %debt не женат\\незамужем и в гражданском браке, низкий у вдовцов и в разводе;\n",
    "     -  сп не в браке, в разводе, вдове\\вдова - чем больше детей, тем больше риск увеличения %dept\n",
    "     - при 3х детях высокий %debt на проведение свадьбы"
   ]
  },
  {
   "cell_type": "code",
   "execution_count": 50,
   "id": "cfe74a26",
   "metadata": {},
   "outputs": [
    {
     "data": {
      "text/plain": [
       "category_purpose          family_status        \n",
       "операции с автомобилем    в разводе                 7.6\n",
       "                          вдовец / вдова            8.8\n",
       "                          гражданский брак         11.9\n",
       "                          женат / замужем           8.3\n",
       "                          не женат / не замужем    13.0\n",
       "операции с недвижимостью  в разводе                 6.4\n",
       "                          вдовец / вдова            5.6\n",
       "                          гражданский брак          9.3\n",
       "                          женат / замужем           6.9\n",
       "                          не женат / не замужем     8.2\n",
       "получение образования     в разводе                 7.2\n",
       "                          вдовец / вдова            7.6\n",
       "                          гражданский брак         14.8\n",
       "                          женат / замужем           8.4\n",
       "                          не женат / не замужем    10.9\n",
       "проведение свадьбы        гражданский брак          7.9\n",
       "ремонт\\строительство      в разводе                 8.7\n",
       "                          вдовец / вдова            3.9\n",
       "                          гражданский брак          9.5\n",
       "                          женат / замужем           6.9\n",
       "                          не женат / не замужем     7.5\n",
       "Name: debt, dtype: float64"
      ]
     },
     "execution_count": 50,
     "metadata": {},
     "output_type": "execute_result"
    }
   ],
   "source": [
    "round(data.groupby(['category_purpose', 'family_status']).debt.mean() * 100, 1)"
   ]
  },
  {
   "cell_type": "markdown",
   "id": "d3c67e41",
   "metadata": {},
   "source": [
    "[описание проекта](#description)"
   ]
  },
  {
   "cell_type": "markdown",
   "id": "d150e3ad",
   "metadata": {},
   "source": [
    "### Вывод:<a id=\"result\"></a>\n",
    "\n",
    " ##### В скоринговой системе важно учесть семейное положение, количество детей, а так же уровень дохода, учитывая следующие факторы:\n",
    "- При наличии детей процент невозврата кредита в срок больше, чем при их отсутствии. Исключением является категория B(доход 200тыс–1млн) при 3х детях эти клиенты имеют самый низкий % по невозврату кредита в срок; Так же одинокие клиенты(сп: неженат\\незамужем, в разводе): При большем количестве детей имеют больший процент невозврата кредита в срок.\n",
    "##### больший процент невозврата кредита в срок у клиентов: \n",
    "- СП: не женат\\незамужем и в гражданском браке;\n",
    "- Доход: с доходом от 50тыс до 200тыс;\n",
    "- Цели: операции с автомобилем и получение образования;\n",
    "##### наименьший процент невозврата кредита в срок у клиентов: \n",
    "- СП: вдовы\\вдовцы\n",
    "- Доход: клиенты с доходом до 50тыс\n",
    "- Цели: недвижимость, ремонт."
   ]
  }
 ],
 "metadata": {
  "kernelspec": {
   "display_name": "Python 3 (ipykernel)",
   "language": "python",
   "name": "python3"
  },
  "language_info": {
   "codemirror_mode": {
    "name": "ipython",
    "version": 3
   },
   "file_extension": ".py",
   "mimetype": "text/x-python",
   "name": "python",
   "nbconvert_exporter": "python",
   "pygments_lexer": "ipython3",
   "version": "3.11.7"
  }
 },
 "nbformat": 4,
 "nbformat_minor": 5
}
